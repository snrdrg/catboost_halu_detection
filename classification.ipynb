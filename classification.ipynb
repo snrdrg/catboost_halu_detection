{
 "cells": [
  {
   "cell_type": "code",
   "execution_count": 1,
   "id": "e868303e-2063-4325-9f9d-28caff437a1f",
   "metadata": {},
   "outputs": [],
   "source": [
    "import gc\n",
    "import ast\n",
    "import json\n",
    "import numpy as np\n",
    "import pandas as pd\n",
    "\n",
    "import catboost\n",
    "from catboost import CatBoostClassifier, cv, Pool\n",
    "\n",
    "from sklearn.linear_model import LogisticRegression\n",
    "from sklearn.feature_selection import mutual_info_classif, RFE\n",
    "from sklearn.metrics import accuracy_score, classification_report, f1_score, roc_auc_score, roc_curve\n",
    "from sklearn.model_selection import cross_val_score, StratifiedKFold, GridSearchCV, RandomizedSearchCV, train_test_split\n",
    "from sklearn.decomposition import PCA\n",
    "from sklearn.utils.class_weight import compute_class_weight\n",
    "from sklearn.preprocessing import StandardScaler\n",
    "from imblearn.over_sampling import SMOTE, ADASYN\n",
    "from scipy.stats import pointbiserialr\n",
    "from tqdm import tqdm\n",
    "\n",
    "import torch\n",
    "import torch.nn.functional as F\n",
    "\n",
    "import matplotlib.pyplot as plt\n",
    "import seaborn as sns\n",
    "\n",
    "import torch.nn as nn\n",
    "import torch.optim as optim\n",
    "from sklearn.model_selection import train_test_split\n",
    "from sklearn.decomposition import PCA\n",
    "from imblearn.over_sampling import SMOTE\n",
    "from sklearn.metrics import classification_report\n",
    "from tqdm import tqdm\n",
    "\n",
    "from scipy import stats\n",
    "from torch.utils.data import DataLoader, TensorDataset"
   ]
  },
  {
   "cell_type": "markdown",
   "id": "2098b8e8-157f-4d92-a34d-280bc64ee092",
   "metadata": {},
   "source": [
    "# Data preparation\n",
    "Data preparation functions"
   ]
  },
  {
   "cell_type": "code",
   "execution_count": null,
   "id": "1e6d1fe7-9f88-4dbe-9344-66d726ed40aa",
   "metadata": {},
   "outputs": [],
   "source": [
    "def parse_answer(s):\n",
    "    try:\n",
    "        return json.loads(s[0:s.find('}') + 1])\n",
    "    except:\n",
    "        return {'answer': 'X', 'explanation': s}\n",
    "\n",
    "def prep_chunk(s, shrink = True, sh_len = 3000, softmax = False):\n",
    "    df = pd.read_csv(s)\n",
    "    df['probs'] = df['probs'].apply(json.loads)\n",
    "    df['probs'] = df['probs'].apply(np.array)\n",
    "    df['model_answer'] = df['answer'].apply(lambda x: parse_answer(x)['answer'])\n",
    "    df['is_right'] = df['model_answer'] == df['right_answer']\n",
    "    df['is_right'] = df['is_right'].apply(lambda x: int(x))\n",
    "    df = df.drop(df[df['model_answer'] == 'X'].index)\n",
    "    res = pd.DataFrame()\n",
    "    if shrink:\n",
    "        res['X'] = df['probs'].apply(lambda x: np.sort(x)[::-1][:sh_len])\n",
    "    else:\n",
    "        res['X'] = df['probs'].apply(lambda x: np.sort(x)[::-1])\n",
    "    if softmax:\n",
    "        res['X'] = res['X'].apply(lambda x: F.softmax(torch.tensor(x.copy()), dim=-1).numpy())\n",
    "    res['y'] = df['is_right']\n",
    "    del df\n",
    "    return res\n",
    "\n",
    "def prep_chunk_nosort(s, shrink = True, sh_len = 3000, softmax = False):\n",
    "    df = pd.read_csv(s)\n",
    "    df['probs'] = df['probs'].apply(json.loads)\n",
    "    df['probs'] = df['probs'].apply(np.array)\n",
    "    df['model_answer'] = df['answer'].apply(lambda x: parse_answer(x)['answer'])\n",
    "    df['is_right'] = df['model_answer'] == df['right_answer']\n",
    "    df['is_right'] = df['is_right'].apply(lambda x: int(x))\n",
    "    df = df.drop(df[df['model_answer'] == 'X'].index)\n",
    "    res = pd.DataFrame()\n",
    "    if shrink:\n",
    "        res['X'] = df['probs'].apply(lambda x: x[:sh_len])\n",
    "    else:\n",
    "        res['X'] = df['probs']\n",
    "    if softmax:\n",
    "        res['X'] = res['X'].apply(lambda x: F.softmax(torch.tensor(x.copy()), dim=-1).numpy())\n",
    "    res['y'] = df['is_right']\n",
    "    del df\n",
    "    return res\n",
    "\n",
    "def prep_data(s):\n",
    "    df = pd.read_csv(s)\n",
    "    df['X'] = df['probs'].apply(json.loads).apply(np.array)\n",
    "    df['stds'] = df['stds'].apply(json.loads).apply(np.array)\n",
    "    df['medians'] = df['medians'].apply(json.loads).apply(np.array)\n",
    "    df['means'] = df['means'].apply(json.loads).apply(np.array)\n",
    "    df['modes'] = df['modes'].apply(json.loads).apply(np.array)\n",
    "    df['entropy'] = df['entropy'].apply(json.loads).apply(np.array)\n",
    "    df['prev_dist'] = df['prev_dist'].apply(json.loads).apply(np.array)\n",
    "    df['model_answer'] = df['answer'].apply(lambda x: parse_answer(x)['answer'])\n",
    "    df['y'] = df['model_answer'] == df['right_answer']\n",
    "    df['y'] = df['y'].apply(lambda x: int(x))\n",
    "    df = df.drop(df[df['model_answer'] == 'X'].index)\n",
    "    df = df.drop('probs', axis=1)\n",
    "    df = df.drop('answer', axis=1)\n",
    "    df = df.drop('question', axis=1)\n",
    "    df = df.drop('right_answer', axis=1)\n",
    "    df = df.drop('model_answer', axis=1)\n",
    "    return df\n",
    "\n",
    "def add_pads(x, m_shape):\n",
    "    if x.shape[0] < m_shape:\n",
    "        return np.pad(x, ((0, m_shape-x.shape[0])), mode='constant')[0:m_shape]\n",
    "    elif x.shape[0] > m_shape:\n",
    "        return x[0:m_shape]\n",
    "    else:\n",
    "        return x[0:m_shape]"
   ]
  },
  {
   "cell_type": "markdown",
   "id": "4a1007ca-e3bf-401c-99ff-4438d2e6a59e",
   "metadata": {},
   "source": [
    "Loading dataset"
   ]
  },
  {
   "cell_type": "code",
   "execution_count": 2,
   "id": "ebd40a25-7305-458d-bf57-50f373274797",
   "metadata": {},
   "outputs": [],
   "source": [
    "cybermetrics_data = pd.concat([prep_data(r'C:\\Work\\Thesis\\datasets\\stats\\llama323b_8bit_cyber' + str(i) + r'.csv') for i in range(5)], ignore_index=True, sort=False)\n",
    "cybermetrics_data['size'] = cybermetrics_data['X'].apply(lambda x: x.shape[0])"
   ]
  },
  {
   "cell_type": "markdown",
   "id": "9e5f3f81-1ec3-46c4-bc68-235f2231efb3",
   "metadata": {},
   "source": [
    "Preparing feature vector"
   ]
  },
  {
   "cell_type": "code",
   "execution_count": 4,
   "id": "639cddc5-c264-4f6a-abd9-c2210215e6e9",
   "metadata": {},
   "outputs": [],
   "source": [
    "def dists(x):\n",
    "    return np.absolute(np.pad(x[1:], (0, 1), mode='constant') - x)\n",
    "\n",
    "def entropy_out(x):\n",
    "    t = 0.65\n",
    "    return np.unique(np.absolute(x) > t, return_counts = True)[1][1]/x.shape[0]\n",
    "\n",
    "def compose_features_means(x):\n",
    "    return np.array((np.mean(x['medians']), np.mean(x['means']), np.mean(x['stds']), np.mean(x['modes']), np.mean(x['entropy']), np.mean(x['dists']), entropy_out(x['entropy'])))\n",
    "\n",
    "def compose_features_medians(x):\n",
    "    return np.array((np.median(x['medians']), np.median(x['means']), np.median(x['stds']), np.median(x['modes']), np.median(x['entropy']), np.median(x['dists'])))\n",
    "\n",
    "def compose_features_stds(x):\n",
    "    return np.array((np.std(x['medians']), np.std(x['means']), np.std(x['stds']), np.std(x['modes']), np.std(x['entropy']), np.std(x['dists'])))\n",
    "\n",
    "def compose_features(x):\n",
    "    result = np.concatenate((compose_features_means(x), compose_features_medians(x)))\n",
    "    return np.concatenate((result, compose_features_stds(x)))\n",
    "\n",
    "\n",
    "cybermetrics_data['dists'] = cybermetrics_data['prev_dist'].apply(dists)\n",
    "cybermetrics_data['features'] = cybermetrics_data[['medians', 'means', 'stds', 'modes', 'entropy', 'dists']].apply(lambda x: compose_features(x), axis=1)\n",
    "cybermetrics_data['entropy_metric'] = cybermetrics_data['entropy'].apply(entropy_out)"
   ]
  },
  {
   "cell_type": "markdown",
   "id": "33f6a14f-a760-4c9e-811f-c42f9a143d0a",
   "metadata": {},
   "source": [
    "# Logistic regression\n",
    "Training"
   ]
  },
  {
   "cell_type": "code",
   "execution_count": 5,
   "id": "35bffb8f-882d-448b-b712-e3f9ca49b361",
   "metadata": {},
   "outputs": [
    {
     "name": "stdout",
     "output_type": "stream",
     "text": [
      "<class 'numpy.ndarray'>\n",
      "Accuracy: 0.7068965517241379\n",
      "F1: 0.8222996515679443\n",
      "\n",
      "Classification Report:\n",
      "              precision    recall  f1-score   support\n",
      "\n",
      "           0       0.46      0.10      0.16       251\n",
      "           1       0.72      0.95      0.82       619\n",
      "\n",
      "    accuracy                           0.71       870\n",
      "   macro avg       0.59      0.53      0.49       870\n",
      "weighted avg       0.65      0.71      0.63       870\n",
      "\n"
     ]
    },
    {
     "name": "stderr",
     "output_type": "stream",
     "text": [
      "C:\\Users\\sndrgn\\AppData\\Local\\Programs\\Python\\Python311\\Lib\\site-packages\\sklearn\\linear_model\\_logistic.py:458: ConvergenceWarning: lbfgs failed to converge (status=1):\n",
      "STOP: TOTAL NO. of ITERATIONS REACHED LIMIT.\n",
      "\n",
      "Increase the number of iterations (max_iter) or scale the data as shown in:\n",
      "    https://scikit-learn.org/stable/modules/preprocessing.html\n",
      "Please also refer to the documentation for alternative solver options:\n",
      "    https://scikit-learn.org/stable/modules/linear_model.html#logistic-regression\n",
      "  n_iter_i = _check_optimize_result(\n"
     ]
    }
   ],
   "source": [
    "from sklearn import linear_model\n",
    "\n",
    "logr = linear_model.LogisticRegression()\n",
    "X = np.stack(cybermetrics_data['features'])#.to_numpy().reshape(-1,1)\n",
    "y = cybermetrics_data['y'].to_numpy()\n",
    "\n",
    "print(type(X))\n",
    "\n",
    "X_train, X_test, y_train, y_test = train_test_split(X, y, test_size=0.2, random_state=42)\n",
    "\n",
    "logr.fit(X_train, y_train)\n",
    "y_pred = logr.predict(X_test)\n",
    "\n",
    "f1 = f1_score(y_test, y_pred)\n",
    "accuracy = accuracy_score(y_test, y_pred)\n",
    "\n",
    "print(\"Accuracy:\", accuracy)\n",
    "print(\"F1:\", f1)\n",
    "print(\"\\nClassification Report:\")\n",
    "print(classification_report(y_test, y_pred))"
   ]
  },
  {
   "cell_type": "markdown",
   "id": "3cd468a4-c2ed-42a7-a106-b52eed5c6058",
   "metadata": {},
   "source": [
    "# Implementing Transformer for classification\n",
    "Datasets preparation"
   ]
  },
  {
   "cell_type": "code",
   "execution_count": 85,
   "id": "7d8282c9-9cd8-4027-968b-213b1e0e65db",
   "metadata": {},
   "outputs": [
    {
     "name": "stdout",
     "output_type": "stream",
     "text": [
      "Complete\n"
     ]
    }
   ],
   "source": [
    "import torch.nn as nn\n",
    "import torch.optim as optim\n",
    "\n",
    "torch.manual_seed(42)\n",
    "device = torch.device(\"cuda\" if torch.cuda.is_available() else \"cpu\")\n",
    "scaler = StandardScaler()\n",
    "\n",
    "X = np.stack(cybermetrics_data['features'])\n",
    "y = cybermetrics_data['y'].to_numpy()\n",
    "\n",
    "X_train, X_test, y_train, y_test = train_test_split(X, y, test_size=0.2, random_state=42)\n",
    "X_train = scaler.fit_transform(X_train)\n",
    "X_test = scaler.transform(X_test)\n",
    "X_train = torch.tensor(X_train, dtype=torch.float32).to(device)\n",
    "y_train = torch.tensor(y_train, dtype=torch.float32).to(device)\n",
    "X_test = torch.tensor(X_test, dtype=torch.float32).to(device)\n",
    "y_test = torch.tensor(y_test, dtype=torch.float32).to(device)\n",
    "train_dataset = TensorDataset(X_train, y_train)\n",
    "test_dataset = TensorDataset(X_test, y_test)\n",
    "print('Complete')"
   ]
  },
  {
   "cell_type": "markdown",
   "id": "41cb043b-c148-4178-bbe2-406e129f3158",
   "metadata": {},
   "source": [
    "Setting up NN architecture and training model"
   ]
  },
  {
   "cell_type": "code",
   "execution_count": 86,
   "id": "09d00d7a-fc96-4e18-8d1a-a042d2a6c5ea",
   "metadata": {
    "scrolled": true
   },
   "outputs": [
    {
     "name": "stderr",
     "output_type": "stream",
     "text": [
      "C:\\Users\\sndrgn\\AppData\\Local\\Programs\\Python\\Python311\\Lib\\site-packages\\torch\\nn\\modules\\transformer.py:307: UserWarning: enable_nested_tensor is True, but self.use_nested_tensor is False because encoder_layer.self_attn.batch_first was not True(use batch_first for better inference performance)\n",
      "  warnings.warn(f\"enable_nested_tensor is True, but self.use_nested_tensor is False because {why_not_sparsity_fast_path}\")\n"
     ]
    },
    {
     "name": "stdout",
     "output_type": "stream",
     "text": [
      "Class Weights: tensor([3., 1.], device='cuda:0')\n"
     ]
    },
    {
     "name": "stderr",
     "output_type": "stream",
     "text": [
      "Epoch [1/20]:   0%|                                                                            | 0/109 [00:00<?, ?it/s]C:\\Users\\sndrgn\\AppData\\Local\\Programs\\Python\\Python311\\Lib\\site-packages\\torch\\nn\\functional.py:5560: UserWarning: 1Torch was not compiled with flash attention. (Triggered internally at C:\\actions-runner\\_work\\pytorch\\pytorch\\builder\\windows\\pytorch\\aten\\src\\ATen\\native\\transformers\\cuda\\sdp_utils.cpp:555.)\n",
      "  attn_output = scaled_dot_product_attention(q, k, v, attn_mask, dropout_p, is_causal)\n",
      "                                                                                                                       \r"
     ]
    },
    {
     "name": "stdout",
     "output_type": "stream",
     "text": [
      "Epoch [1/20], Loss: 0.5714\n"
     ]
    },
    {
     "name": "stderr",
     "output_type": "stream",
     "text": [
      "                                                                                                                       \r"
     ]
    },
    {
     "name": "stdout",
     "output_type": "stream",
     "text": [
      "Epoch [2/20], Loss: 0.5448\n"
     ]
    },
    {
     "name": "stderr",
     "output_type": "stream",
     "text": [
      "                                                                                                                       \r"
     ]
    },
    {
     "name": "stdout",
     "output_type": "stream",
     "text": [
      "Epoch [3/20], Loss: 0.5474\n"
     ]
    },
    {
     "name": "stderr",
     "output_type": "stream",
     "text": [
      "                                                                                                                       \r"
     ]
    },
    {
     "name": "stdout",
     "output_type": "stream",
     "text": [
      "Epoch [4/20], Loss: 0.5451\n"
     ]
    },
    {
     "name": "stderr",
     "output_type": "stream",
     "text": [
      "                                                                                                                       \r"
     ]
    },
    {
     "name": "stdout",
     "output_type": "stream",
     "text": [
      "Epoch [5/20], Loss: 0.5510\n"
     ]
    },
    {
     "name": "stderr",
     "output_type": "stream",
     "text": [
      "                                                                                                                       \r"
     ]
    },
    {
     "name": "stdout",
     "output_type": "stream",
     "text": [
      "Epoch [6/20], Loss: 0.5471\n"
     ]
    },
    {
     "name": "stderr",
     "output_type": "stream",
     "text": [
      "                                                                                                                       \r"
     ]
    },
    {
     "name": "stdout",
     "output_type": "stream",
     "text": [
      "Epoch [7/20], Loss: 0.5436\n"
     ]
    },
    {
     "name": "stderr",
     "output_type": "stream",
     "text": [
      "                                                                                                                       \r"
     ]
    },
    {
     "name": "stdout",
     "output_type": "stream",
     "text": [
      "Epoch [8/20], Loss: 0.5446\n"
     ]
    },
    {
     "name": "stderr",
     "output_type": "stream",
     "text": [
      "                                                                                                                       \r"
     ]
    },
    {
     "name": "stdout",
     "output_type": "stream",
     "text": [
      "Epoch [9/20], Loss: 0.5506\n"
     ]
    },
    {
     "name": "stderr",
     "output_type": "stream",
     "text": [
      "                                                                                                                       \r"
     ]
    },
    {
     "name": "stdout",
     "output_type": "stream",
     "text": [
      "Epoch [10/20], Loss: 0.5462\n"
     ]
    },
    {
     "name": "stderr",
     "output_type": "stream",
     "text": [
      "                                                                                                                       \r"
     ]
    },
    {
     "name": "stdout",
     "output_type": "stream",
     "text": [
      "Epoch [11/20], Loss: 0.5451\n"
     ]
    },
    {
     "name": "stderr",
     "output_type": "stream",
     "text": [
      "                                                                                                                       \r"
     ]
    },
    {
     "name": "stdout",
     "output_type": "stream",
     "text": [
      "Epoch [12/20], Loss: 0.5484\n"
     ]
    },
    {
     "name": "stderr",
     "output_type": "stream",
     "text": [
      "                                                                                                                       \r"
     ]
    },
    {
     "name": "stdout",
     "output_type": "stream",
     "text": [
      "Epoch [13/20], Loss: 0.5498\n"
     ]
    },
    {
     "name": "stderr",
     "output_type": "stream",
     "text": [
      "                                                                                                                       \r"
     ]
    },
    {
     "name": "stdout",
     "output_type": "stream",
     "text": [
      "Epoch [14/20], Loss: 0.5475\n"
     ]
    },
    {
     "name": "stderr",
     "output_type": "stream",
     "text": [
      "                                                                                                                       \r"
     ]
    },
    {
     "name": "stdout",
     "output_type": "stream",
     "text": [
      "Epoch [15/20], Loss: 0.5516\n"
     ]
    },
    {
     "name": "stderr",
     "output_type": "stream",
     "text": [
      "                                                                                                                       \r"
     ]
    },
    {
     "name": "stdout",
     "output_type": "stream",
     "text": [
      "Epoch [16/20], Loss: 0.5517\n"
     ]
    },
    {
     "name": "stderr",
     "output_type": "stream",
     "text": [
      "                                                                                                                       \r"
     ]
    },
    {
     "name": "stdout",
     "output_type": "stream",
     "text": [
      "Epoch [17/20], Loss: 0.5415\n"
     ]
    },
    {
     "name": "stderr",
     "output_type": "stream",
     "text": [
      "                                                                                                                       \r"
     ]
    },
    {
     "name": "stdout",
     "output_type": "stream",
     "text": [
      "Epoch [18/20], Loss: 0.5479\n"
     ]
    },
    {
     "name": "stderr",
     "output_type": "stream",
     "text": [
      "                                                                                                                       \r"
     ]
    },
    {
     "name": "stdout",
     "output_type": "stream",
     "text": [
      "Epoch [19/20], Loss: 0.5452\n"
     ]
    },
    {
     "name": "stderr",
     "output_type": "stream",
     "text": [
      "                                                                                                                       "
     ]
    },
    {
     "name": "stdout",
     "output_type": "stream",
     "text": [
      "Epoch [20/20], Loss: 0.5454\n"
     ]
    },
    {
     "name": "stderr",
     "output_type": "stream",
     "text": [
      "\r"
     ]
    }
   ],
   "source": [
    "batch_size = 32\n",
    "train_loader = DataLoader(train_dataset, batch_size=batch_size, shuffle=True)\n",
    "test_loader = DataLoader(test_dataset, batch_size=batch_size, shuffle=False)\n",
    "\n",
    "class_weights = torch.tensor([3.0, 1.0], dtype=torch.float32).to(device)\n",
    "print(\"Class Weights:\", class_weights)\n",
    "\n",
    "class LSTMModel(nn.Module):\n",
    "    def __init__(self, input_size, hidden_size, output_size):\n",
    "        super(LSTMModel, self).__init__()\n",
    "        self.lstm = nn.LSTM(input_size, hidden_size, batch_first=True)\n",
    "        self.ln = nn.LayerNorm(hidden_size)\n",
    "        self.dropout = nn.Dropout(0.1)\n",
    "        self.fc = nn.Linear(hidden_size, output_size)\n",
    "        self.relu = nn.ReLU()\n",
    "        self.sigmoid = nn.Sigmoid()\n",
    "\n",
    "    def forward(self, x):\n",
    "        if x.dim() == 2:\n",
    "            x = x.unsqueeze(-1) \n",
    "        elif x.dim() != 3:\n",
    "            raise ValueError(f\"Input tensor must have shape (batch_size, sequence_length, num_features). Got {x.shape}\")\n",
    "\n",
    "        lstm_out, _ = self.lstm(x)\n",
    "        lstm_out = lstm_out[:, -1, :]\n",
    "        lstm_out = self.ln(lstm_out)\n",
    "        lstm_out = self.dropout(lstm_out)\n",
    "        lstm_out = self.fc(lstm_out)\n",
    "        return self.sigmoid(lstm_out)\n",
    "\n",
    "class TransformerClassifier(nn.Module):\n",
    "    def __init__(self, feature_dim, num_heads=6, num_layers=3, hidden_dim=128):\n",
    "        super().__init__()\n",
    "        self.input_proj = nn.Linear(feature_dim, hidden_dim)\n",
    "        encoder_layer = nn.TransformerEncoderLayer(d_model=hidden_dim, nhead=num_heads)\n",
    "        self.transformer_encoder = nn.TransformerEncoder(encoder_layer, num_layers=num_layers)\n",
    "        self.fc1 = nn.Linear(hidden_dim, hidden_dim//2)\n",
    "        self.dropout1 = nn.Dropout(0.1)\n",
    "        self.ln1 = nn.LayerNorm(hidden_dim//2)\n",
    "        self.bn1 = nn.BatchNorm1d(hidden_dim//2)\n",
    "        self.fc2 = nn.Linear(hidden_dim//2, 1)\n",
    "        self.sigmoid = nn.Sigmoid()\n",
    "\n",
    "    def forward(self, x):\n",
    "        x = self.input_proj(x).unsqueeze(1)  # (batch_size, seq_len=1, hidden_dim)\n",
    "        x = self.transformer_encoder(x)\n",
    "        x = x.mean(dim=1)\n",
    "        x = F.leaky_relu(self.ln1(self.fc1(x)), negative_slope=0.02)\n",
    "        x = self.dropout1(x)\n",
    "        x = self.fc2(x)\n",
    "        return x\n",
    "\n",
    "input_size = X.shape[1]\n",
    "hidden_size = 64\n",
    "output_size = 1\n",
    "\n",
    "#model = LSTMModel(input_size, hidden_size, output_size).to(device)\n",
    "model = TransformerClassifier(input_size, hidden_size, output_size).to(device)\n",
    "\n",
    "def init_weights(m):\n",
    "    if isinstance(m, nn.Linear):\n",
    "        torch.nn.init.xavier_uniform_(m.weight)\n",
    "        m.bias.data.fill_(0.01)\n",
    "\n",
    "model.apply(init_weights)\n",
    "\n",
    "#criterion = nn.BCELoss(weight=class_weights[1])\n",
    "criterion = nn.BCEWithLogitsLoss(weight=class_weights[1])\n",
    "optimizer = optim.Adam(model.parameters(), lr=0.005)\n",
    "\n",
    "num_epochs = 20\n",
    "for epoch in range(num_epochs):\n",
    "    model.train()\n",
    "    running_loss = 0.0\n",
    "\n",
    "    train_loader_tqdm = tqdm(train_loader, desc=f\"Epoch [{epoch+1}/{num_epochs}]\", leave=False)\n",
    "\n",
    "    for inputs, labels in train_loader_tqdm:\n",
    "        inputs = inputs.to(device)\n",
    "        labels = labels.to(device)\n",
    "        optimizer.zero_grad()\n",
    "        outputs = model(inputs)\n",
    "        loss = criterion(outputs.squeeze(), labels)\n",
    "        loss.backward()\n",
    "        optimizer.step()\n",
    "        running_loss += loss.item()\n",
    "        train_loader_tqdm.set_postfix(loss=loss.item())\n",
    "        gc.collect()\n",
    "        torch.cuda.empty_cache()\n",
    "\n",
    "    print(f\"Epoch [{epoch+1}/{num_epochs}], Loss: {running_loss/len(train_loader):.4f}\")"
   ]
  },
  {
   "cell_type": "markdown",
   "id": "af588057-0d59-455a-a6aa-e138a54bdd38",
   "metadata": {},
   "source": [
    "Evaluating model on test dataset"
   ]
  },
  {
   "cell_type": "code",
   "execution_count": 87,
   "id": "8b19db91-8da6-4bbb-8c33-e8bd36760518",
   "metadata": {},
   "outputs": [
    {
     "name": "stdout",
     "output_type": "stream",
     "text": [
      "\n",
      "Classification Report:\n",
      "              precision    recall  f1-score   support\n",
      "\n",
      "         0.0       0.28      0.45      0.35       251\n",
      "         1.0       0.71      0.54      0.61       619\n",
      "\n",
      "    accuracy                           0.51       870\n",
      "   macro avg       0.49      0.49      0.48       870\n",
      "weighted avg       0.58      0.51      0.53       870\n",
      "\n"
     ]
    },
    {
     "data": {
      "text/html": [
       "<div>\n",
       "<style scoped>\n",
       "    .dataframe tbody tr th:only-of-type {\n",
       "        vertical-align: middle;\n",
       "    }\n",
       "\n",
       "    .dataframe tbody tr th {\n",
       "        vertical-align: top;\n",
       "    }\n",
       "\n",
       "    .dataframe thead th {\n",
       "        text-align: right;\n",
       "    }\n",
       "</style>\n",
       "<table border=\"1\" class=\"dataframe\">\n",
       "  <thead>\n",
       "    <tr style=\"text-align: right;\">\n",
       "      <th></th>\n",
       "      <th>0</th>\n",
       "    </tr>\n",
       "  </thead>\n",
       "  <tbody>\n",
       "    <tr>\n",
       "      <th>count</th>\n",
       "      <td>8.700000e+02</td>\n",
       "    </tr>\n",
       "    <tr>\n",
       "      <th>mean</th>\n",
       "      <td>-2.904870e-08</td>\n",
       "    </tr>\n",
       "    <tr>\n",
       "      <th>std</th>\n",
       "      <td>1.000575e+00</td>\n",
       "    </tr>\n",
       "    <tr>\n",
       "      <th>min</th>\n",
       "      <td>-1.365454e+00</td>\n",
       "    </tr>\n",
       "    <tr>\n",
       "      <th>25%</th>\n",
       "      <td>-9.686897e-01</td>\n",
       "    </tr>\n",
       "    <tr>\n",
       "      <th>50%</th>\n",
       "      <td>-1.666357e-01</td>\n",
       "    </tr>\n",
       "    <tr>\n",
       "      <th>75%</th>\n",
       "      <td>1.049505e+00</td>\n",
       "    </tr>\n",
       "    <tr>\n",
       "      <th>max</th>\n",
       "      <td>1.468514e+00</td>\n",
       "    </tr>\n",
       "  </tbody>\n",
       "</table>\n",
       "</div>"
      ],
      "text/plain": [
       "                  0\n",
       "count  8.700000e+02\n",
       "mean  -2.904870e-08\n",
       "std    1.000575e+00\n",
       "min   -1.365454e+00\n",
       "25%   -9.686897e-01\n",
       "50%   -1.666357e-01\n",
       "75%    1.049505e+00\n",
       "max    1.468514e+00"
      ]
     },
     "execution_count": 87,
     "metadata": {},
     "output_type": "execute_result"
    }
   ],
   "source": [
    "# Evaluation\n",
    "model.eval()\n",
    "y_true = y_test.cpu().tolist()\n",
    "y_pred_probs = []\n",
    "\n",
    "with torch.no_grad():\n",
    "    for inputs, labels in test_loader:\n",
    "        inputs = inputs.to(device)\n",
    "        labels = labels.to(device)\n",
    "        outputs = model(inputs)\n",
    "        try:\n",
    "            y_pred_probs.extend(list(outputs.to('cpu').numpy().squeeze()))\n",
    "        except Exception:\n",
    "            continue\n",
    "        \n",
    "#y_pred_probs\n",
    "y_pred_probs = scaler.fit_transform(np.array(y_pred_probs).reshape(-1, 1))\n",
    "y_pred_probs = y_pred_probs.reshape(1,-1)[0]\n",
    "print(\"\\nClassification Report:\")\n",
    "print(classification_report(y_true, y_pred))\n",
    "pd.DataFrame(y_pred_probs).describe()"
   ]
  },
  {
   "cell_type": "code",
   "execution_count": 91,
   "id": "3be1d8b7-880a-42b9-a8b4-aed41896bf03",
   "metadata": {},
   "outputs": [
    {
     "name": "stdout",
     "output_type": "stream",
     "text": [
      "Accuracy: 0.5873563218390805\n",
      "F1: 0.6727438468550593\n",
      "ROC-AUC: 1.0\n",
      "\n",
      "Classification Report:\n",
      "              precision    recall  f1-score   support\n",
      "\n",
      "         0.0       0.36      0.57      0.44       251\n",
      "         1.0       0.77      0.60      0.67       619\n",
      "\n",
      "    accuracy                           0.59       870\n",
      "   macro avg       0.57      0.58      0.56       870\n",
      "weighted avg       0.65      0.59      0.61       870\n",
      "\n"
     ]
    }
   ],
   "source": [
    "treshold = -0.4\n",
    "y_pred_probs = np.array(y_pred_probs)\n",
    "y_pred = (y_pred_probs > treshold).astype(int)\n",
    "\n",
    "accuracy = accuracy_score(y_test.to('cpu').numpy(), y_pred)\n",
    "f1 = f1_score(y_test.to('cpu').numpy(), y_pred)\n",
    "y_trsh = (y_pred_probs >= treshold).astype(int)\n",
    "roc_auc = roc_auc_score(y_pred, y_trsh)\n",
    "curve = []\n",
    "for treshold in np.arange(-2, 2, 0.05):\n",
    "    y_trsh = (y_pred_probs > treshold).astype(int)\n",
    "    fpr, tpr, thresholds = roc_curve(y_test.to('cpu').numpy(), y_trsh)\n",
    "    curve.append((fpr[1], tpr[1], treshold))\n",
    "\n",
    "curve = np.array(curve)\n",
    "\n",
    "print(\"Accuracy:\", accuracy)\n",
    "print(\"F1:\", f1)\n",
    "print(\"ROC-AUC:\", roc_auc)\n",
    "print(\"\\nClassification Report:\")\n",
    "print(classification_report(y_test.to('cpu').numpy(), y_pred))"
   ]
  },
  {
   "cell_type": "code",
   "execution_count": 95,
   "id": "0293a0f5-5e6a-46a6-9992-e552d4b75ae5",
   "metadata": {},
   "outputs": [
    {
     "data": {
      "image/png": "[encoded data removed]",
      "text/plain": [
       "<Figure size 640x480 with 1 Axes>"
      ]
     },
     "metadata": {},
     "output_type": "display_data"
    }
   ],
   "source": [
    "plt.figure()\n",
    "plt.plot(curve[10:-10,0], curve[10:-10,1], color='blue', label=f'ROC curve (AUC = {roc_auc:.2f})')\n",
    "plt.plot([0, 1], [0, 1], color='gray', linestyle='--')  # Diagonal line\n",
    "plt.xlabel('False Positive Rate')\n",
    "plt.ylabel('True Positive Rate')\n",
    "plt.title('ROC Curve')\n",
    "plt.legend(loc='lower right')\n",
    "plt.show()"
   ]
  },
  {
   "cell_type": "markdown",
   "id": "a6acd60a-ed68-4b04-8704-eaf588a1e130",
   "metadata": {},
   "source": [
    "# Implementing Catboost classifier"
   ]
  },
  {
   "cell_type": "code",
   "execution_count": 6,
   "id": "09952b35-193f-42da-b59c-038a8de2c7f0",
   "metadata": {},
   "outputs": [],
   "source": [
    "array_X = np.stack(cybermetrics_data['features'])#.to_numpy().reshape(-1,1)\n",
    "array_y = cybermetrics_data['y'].to_numpy()"
   ]
  },
  {
   "cell_type": "code",
   "execution_count": 7,
   "id": "72b8bf72-dff3-406c-b64c-9a4fc35eab3c",
   "metadata": {},
   "outputs": [
    {
     "name": "stdout",
     "output_type": "stream",
     "text": [
      "Best parameters: {'learning_rate': 0.01, 'l2_leaf_reg': 1, 'iterations': 100, 'depth': 4}\n",
      "Best F1 score: 0.8422014975780912\n"
     ]
    }
   ],
   "source": [
    "skf = StratifiedKFold(n_splits=5, shuffle=True, random_state=42)\n",
    "\n",
    "param_grid = {\n",
    "    'iterations': [100, 200],\n",
    "    'learning_rate': [0.01, 0.1],\n",
    "    'l2_leaf_reg': [1, 3, 5],\n",
    "    'depth': [4, 6]\n",
    "}\n",
    "\n",
    "random_search = RandomizedSearchCV(\n",
    "    estimator=CatBoostClassifier(\n",
    "        loss_function='Logloss', \n",
    "        task_type='GPU',\n",
    "        verbose=0, \n",
    "        allow_writing_files=False,\n",
    "    ),\n",
    "    param_distributions=param_grid,\n",
    "    cv=skf,\n",
    "    scoring='f1',\n",
    "    n_jobs=1,\n",
    "    n_iter=10,\n",
    "    random_state=42\n",
    ")\n",
    "\n",
    "gc.collect()\n",
    "random_search.fit(array_X, array_y)\n",
    "\n",
    "print(\"Best parameters:\", random_search.best_params_)\n",
    "print(\"Best F1 score:\", random_search.best_score_)"
   ]
  },
  {
   "cell_type": "code",
   "execution_count": 8,
   "id": "9ca82540-414f-4d45-aa64-aee17cf2bf37",
   "metadata": {},
   "outputs": [
    {
     "name": "stdout",
     "output_type": "stream",
     "text": [
      "0:\tlearn: 0.6922115\ttotal: 23.4ms\tremaining: 2.32s\n",
      "1:\tlearn: 0.6912915\ttotal: 25.7ms\tremaining: 1.26s\n",
      "2:\tlearn: 0.6902913\ttotal: 28.1ms\tremaining: 907ms\n",
      "3:\tlearn: 0.6893787\ttotal: 30.5ms\tremaining: 731ms\n",
      "4:\tlearn: 0.6884588\ttotal: 32.8ms\tremaining: 623ms\n",
      "5:\tlearn: 0.6876166\ttotal: 35.2ms\tremaining: 551ms\n",
      "6:\tlearn: 0.6866578\ttotal: 37.4ms\tremaining: 497ms\n",
      "7:\tlearn: 0.6857847\ttotal: 39.8ms\tremaining: 457ms\n",
      "8:\tlearn: 0.6849570\ttotal: 42ms\tremaining: 425ms\n",
      "9:\tlearn: 0.6840826\ttotal: 44ms\tremaining: 396ms\n",
      "10:\tlearn: 0.6832582\ttotal: 46.3ms\tremaining: 374ms\n",
      "11:\tlearn: 0.6824493\ttotal: 48.3ms\tremaining: 354ms\n",
      "12:\tlearn: 0.6816194\ttotal: 50.4ms\tremaining: 337ms\n",
      "13:\tlearn: 0.6807418\ttotal: 52.6ms\tremaining: 323ms\n",
      "14:\tlearn: 0.6799088\ttotal: 54.6ms\tremaining: 310ms\n",
      "15:\tlearn: 0.6791803\ttotal: 56.9ms\tremaining: 299ms\n",
      "16:\tlearn: 0.6783867\ttotal: 59ms\tremaining: 288ms\n",
      "17:\tlearn: 0.6775787\ttotal: 61.2ms\tremaining: 279ms\n",
      "18:\tlearn: 0.6768166\ttotal: 63.4ms\tremaining: 270ms\n",
      "19:\tlearn: 0.6760219\ttotal: 65.5ms\tremaining: 262ms\n",
      "20:\tlearn: 0.6752790\ttotal: 67.7ms\tremaining: 255ms\n",
      "21:\tlearn: 0.6745248\ttotal: 70.1ms\tremaining: 249ms\n",
      "22:\tlearn: 0.6737868\ttotal: 72.1ms\tremaining: 242ms\n",
      "23:\tlearn: 0.6730977\ttotal: 74.4ms\tremaining: 235ms\n",
      "24:\tlearn: 0.6724117\ttotal: 76.7ms\tremaining: 230ms\n",
      "25:\tlearn: 0.6716647\ttotal: 78.7ms\tremaining: 224ms\n",
      "26:\tlearn: 0.6709807\ttotal: 81.1ms\tremaining: 219ms\n",
      "27:\tlearn: 0.6702936\ttotal: 83.1ms\tremaining: 214ms\n",
      "28:\tlearn: 0.6695813\ttotal: 85.3ms\tremaining: 209ms\n",
      "29:\tlearn: 0.6689203\ttotal: 87.4ms\tremaining: 204ms\n",
      "30:\tlearn: 0.6682124\ttotal: 89.5ms\tremaining: 199ms\n",
      "31:\tlearn: 0.6675816\ttotal: 91.8ms\tremaining: 195ms\n",
      "32:\tlearn: 0.6669574\ttotal: 94ms\tremaining: 191ms\n",
      "33:\tlearn: 0.6663764\ttotal: 96ms\tremaining: 186ms\n",
      "34:\tlearn: 0.6657558\ttotal: 98.2ms\tremaining: 182ms\n",
      "35:\tlearn: 0.6651293\ttotal: 100ms\tremaining: 178ms\n",
      "36:\tlearn: 0.6644879\ttotal: 102ms\tremaining: 174ms\n",
      "37:\tlearn: 0.6638336\ttotal: 105ms\tremaining: 171ms\n",
      "38:\tlearn: 0.6632453\ttotal: 107ms\tremaining: 167ms\n",
      "39:\tlearn: 0.6626496\ttotal: 109ms\tremaining: 163ms\n",
      "40:\tlearn: 0.6620797\ttotal: 111ms\tremaining: 160ms\n",
      "41:\tlearn: 0.6615110\ttotal: 113ms\tremaining: 156ms\n",
      "42:\tlearn: 0.6609712\ttotal: 115ms\tremaining: 153ms\n",
      "43:\tlearn: 0.6603787\ttotal: 118ms\tremaining: 150ms\n",
      "44:\tlearn: 0.6598509\ttotal: 120ms\tremaining: 146ms\n",
      "45:\tlearn: 0.6592834\ttotal: 122ms\tremaining: 143ms\n",
      "46:\tlearn: 0.6587408\ttotal: 124ms\tremaining: 140ms\n",
      "47:\tlearn: 0.6582184\ttotal: 126ms\tremaining: 137ms\n",
      "48:\tlearn: 0.6577039\ttotal: 129ms\tremaining: 134ms\n",
      "49:\tlearn: 0.6571803\ttotal: 131ms\tremaining: 131ms\n",
      "50:\tlearn: 0.6567373\ttotal: 133ms\tremaining: 128ms\n",
      "51:\tlearn: 0.6562535\ttotal: 135ms\tremaining: 125ms\n",
      "52:\tlearn: 0.6557816\ttotal: 137ms\tremaining: 122ms\n",
      "53:\tlearn: 0.6553095\ttotal: 139ms\tremaining: 119ms\n",
      "54:\tlearn: 0.6548286\ttotal: 141ms\tremaining: 116ms\n",
      "55:\tlearn: 0.6543574\ttotal: 143ms\tremaining: 113ms\n",
      "56:\tlearn: 0.6539276\ttotal: 146ms\tremaining: 110ms\n",
      "57:\tlearn: 0.6534569\ttotal: 148ms\tremaining: 107ms\n",
      "58:\tlearn: 0.6529702\ttotal: 150ms\tremaining: 104ms\n",
      "59:\tlearn: 0.6525013\ttotal: 152ms\tremaining: 102ms\n",
      "60:\tlearn: 0.6520804\ttotal: 154ms\tremaining: 98.7ms\n",
      "61:\tlearn: 0.6516136\ttotal: 157ms\tremaining: 96ms\n",
      "62:\tlearn: 0.6511586\ttotal: 159ms\tremaining: 93.3ms\n",
      "63:\tlearn: 0.6507146\ttotal: 161ms\tremaining: 90.5ms\n",
      "64:\tlearn: 0.6503093\ttotal: 163ms\tremaining: 87.9ms\n",
      "65:\tlearn: 0.6498884\ttotal: 165ms\tremaining: 85.1ms\n",
      "66:\tlearn: 0.6494546\ttotal: 167ms\tremaining: 82.5ms\n",
      "67:\tlearn: 0.6490149\ttotal: 170ms\tremaining: 79.8ms\n",
      "68:\tlearn: 0.6486297\ttotal: 172ms\tremaining: 77.2ms\n",
      "69:\tlearn: 0.6481792\ttotal: 174ms\tremaining: 74.6ms\n",
      "70:\tlearn: 0.6477686\ttotal: 176ms\tremaining: 72ms\n",
      "71:\tlearn: 0.6473613\ttotal: 178ms\tremaining: 69.3ms\n",
      "72:\tlearn: 0.6469347\ttotal: 181ms\tremaining: 66.8ms\n",
      "73:\tlearn: 0.6465549\ttotal: 183ms\tremaining: 64.2ms\n",
      "74:\tlearn: 0.6461840\ttotal: 185ms\tremaining: 61.6ms\n",
      "75:\tlearn: 0.6457924\ttotal: 187ms\tremaining: 59.1ms\n",
      "76:\tlearn: 0.6454254\ttotal: 189ms\tremaining: 56.5ms\n",
      "77:\tlearn: 0.6450370\ttotal: 191ms\tremaining: 54ms\n",
      "78:\tlearn: 0.6446493\ttotal: 194ms\tremaining: 51.5ms\n",
      "79:\tlearn: 0.6442774\ttotal: 196ms\tremaining: 48.9ms\n",
      "80:\tlearn: 0.6439009\ttotal: 198ms\tremaining: 46.4ms\n",
      "81:\tlearn: 0.6435123\ttotal: 200ms\tremaining: 43.9ms\n",
      "82:\tlearn: 0.6431843\ttotal: 202ms\tremaining: 41.4ms\n",
      "83:\tlearn: 0.6428238\ttotal: 205ms\tremaining: 39ms\n",
      "84:\tlearn: 0.6424488\ttotal: 207ms\tremaining: 36.5ms\n",
      "85:\tlearn: 0.6421127\ttotal: 209ms\tremaining: 34ms\n",
      "86:\tlearn: 0.6417139\ttotal: 211ms\tremaining: 31.6ms\n",
      "87:\tlearn: 0.6413781\ttotal: 214ms\tremaining: 29.1ms\n",
      "88:\tlearn: 0.6410424\ttotal: 216ms\tremaining: 26.7ms\n",
      "89:\tlearn: 0.6406730\ttotal: 218ms\tremaining: 24.2ms\n",
      "90:\tlearn: 0.6403397\ttotal: 220ms\tremaining: 21.8ms\n",
      "91:\tlearn: 0.6400337\ttotal: 223ms\tremaining: 19.4ms\n",
      "92:\tlearn: 0.6397154\ttotal: 225ms\tremaining: 16.9ms\n",
      "93:\tlearn: 0.6394223\ttotal: 227ms\tremaining: 14.5ms\n",
      "94:\tlearn: 0.6390598\ttotal: 229ms\tremaining: 12.1ms\n",
      "95:\tlearn: 0.6387736\ttotal: 232ms\tremaining: 9.65ms\n",
      "96:\tlearn: 0.6384643\ttotal: 234ms\tremaining: 7.23ms\n",
      "97:\tlearn: 0.6381100\ttotal: 236ms\tremaining: 4.81ms\n",
      "98:\tlearn: 0.6377448\ttotal: 238ms\tremaining: 2.4ms\n",
      "99:\tlearn: 0.6374493\ttotal: 240ms\tremaining: 0us\n"
     ]
    }
   ],
   "source": [
    "X_train, X_test, y_train, y_test = train_test_split(array_X, array_y, test_size=0.2, stratify=y, random_state=42)\n",
    "\n",
    "class_weights = {0: 3.0, 1: 1.0}\n",
    "\n",
    "params = {}\n",
    "params = random_search.best_params_\n",
    "params['loss_function'] = 'Logloss'\n",
    "params['subsample'] = 0.8\n",
    "params['bootstrap_type'] = 'MVS'\n",
    "params['task_type'] = 'GPU'\n",
    "params['class_weights'] = class_weights\n",
    "\n",
    "model = CatBoostClassifier(**params)\n",
    "model.fit(X_train, y_train)\n",
    "model.save_model('cyber_llama3238b.cbm')"
   ]
  },
  {
   "cell_type": "markdown",
   "id": "da05a546-40ac-41e1-b112-9516ca9a86a8",
   "metadata": {},
   "source": [
    "Evaluating trained model on test dataset"
   ]
  },
  {
   "cell_type": "code",
   "execution_count": 57,
   "id": "5813c944-3305-4333-97bb-f5167b2c4d65",
   "metadata": {},
   "outputs": [
    {
     "name": "stdout",
     "output_type": "stream",
     "text": [
      "Accuracy: 0.5540229885057472\n",
      "F1: 0.6196078431372549\n",
      "ROC-AUC: 0.5974231464737794\n",
      "\n",
      "Classification Report:\n",
      "              precision    recall  f1-score   support\n",
      "\n",
      "           0       0.34      0.70      0.46       238\n",
      "           1       0.81      0.50      0.62       632\n",
      "\n",
      "    accuracy                           0.55       870\n",
      "   macro avg       0.58      0.60      0.54       870\n",
      "weighted avg       0.69      0.55      0.58       870\n",
      "\n",
      "              precision    recall  f1-score   support\n",
      "\n",
      "           0       0.36      0.57      0.44       238\n",
      "           1       0.79      0.62      0.70       632\n",
      "\n",
      "    accuracy                           0.61       870\n",
      "   macro avg       0.58      0.60      0.57       870\n",
      "weighted avg       0.68      0.61      0.63       870\n",
      "\n"
     ]
    }
   ],
   "source": [
    "y_pred = model.predict(X_test)\n",
    "y_pred_proba = model.predict_proba(X_test)\n",
    "accuracy = accuracy_score(y_test, y_pred)\n",
    "f1 = f1_score(y_test, y_pred)\n",
    "treshold = 0.47\n",
    "y_trsh = (y_pred_proba[:, 1] > treshold).astype(int)\n",
    "roc_auc = roc_auc_score(y_test, y_trsh)\n",
    "curve = []\n",
    "for trs in np.arange(0, 1.05, 0.05):\n",
    "    y_trsh = (y_pred_proba[2:-2, 1] > trs).astype(int)\n",
    "    fpr, tpr, trs = roc_curve(y_test[2:-2], y_trsh)\n",
    "    curve.append((fpr[1], tpr[1], treshold))\n",
    "\n",
    "curve = np.array(curve)\n",
    "\n",
    "print(\"Accuracy:\", accuracy)\n",
    "print(\"F1:\", f1)\n",
    "print(\"ROC-AUC:\", roc_auc)\n",
    "print(\"\\nClassification Report:\")\n",
    "print(classification_report(y_test, y_pred))\n",
    "print(classification_report(y_test, (y_pred_proba[:, 1] > treshold).astype(int)))"
   ]
  },
  {
   "cell_type": "code",
   "execution_count": 24,
   "id": "fa573536-2ca4-4d8e-ae11-1a3d54cc235c",
   "metadata": {},
   "outputs": [
    {
     "data": {
      "text/html": [
       "<div>\n",
       "<style scoped>\n",
       "    .dataframe tbody tr th:only-of-type {\n",
       "        vertical-align: middle;\n",
       "    }\n",
       "\n",
       "    .dataframe tbody tr th {\n",
       "        vertical-align: top;\n",
       "    }\n",
       "\n",
       "    .dataframe thead th {\n",
       "        text-align: right;\n",
       "    }\n",
       "</style>\n",
       "<table border=\"1\" class=\"dataframe\">\n",
       "  <thead>\n",
       "    <tr style=\"text-align: right;\">\n",
       "      <th></th>\n",
       "      <th>0</th>\n",
       "      <th>1</th>\n",
       "    </tr>\n",
       "  </thead>\n",
       "  <tbody>\n",
       "    <tr>\n",
       "      <th>count</th>\n",
       "      <td>870.000000</td>\n",
       "      <td>870.000000</td>\n",
       "    </tr>\n",
       "    <tr>\n",
       "      <th>mean</th>\n",
       "      <td>0.501219</td>\n",
       "      <td>0.498781</td>\n",
       "    </tr>\n",
       "    <tr>\n",
       "      <th>std</th>\n",
       "      <td>0.091152</td>\n",
       "      <td>0.091152</td>\n",
       "    </tr>\n",
       "    <tr>\n",
       "      <th>min</th>\n",
       "      <td>0.317684</td>\n",
       "      <td>0.318658</td>\n",
       "    </tr>\n",
       "    <tr>\n",
       "      <th>25%</th>\n",
       "      <td>0.429482</td>\n",
       "      <td>0.424290</td>\n",
       "    </tr>\n",
       "    <tr>\n",
       "      <th>50%</th>\n",
       "      <td>0.515719</td>\n",
       "      <td>0.484281</td>\n",
       "    </tr>\n",
       "    <tr>\n",
       "      <th>75%</th>\n",
       "      <td>0.575710</td>\n",
       "      <td>0.570518</td>\n",
       "    </tr>\n",
       "    <tr>\n",
       "      <th>max</th>\n",
       "      <td>0.681342</td>\n",
       "      <td>0.682316</td>\n",
       "    </tr>\n",
       "  </tbody>\n",
       "</table>\n",
       "</div>"
      ],
      "text/plain": [
       "                0           1\n",
       "count  870.000000  870.000000\n",
       "mean     0.501219    0.498781\n",
       "std      0.091152    0.091152\n",
       "min      0.317684    0.318658\n",
       "25%      0.429482    0.424290\n",
       "50%      0.515719    0.484281\n",
       "75%      0.575710    0.570518\n",
       "max      0.681342    0.682316"
      ]
     },
     "execution_count": 24,
     "metadata": {},
     "output_type": "execute_result"
    }
   ],
   "source": [
    "pd.DataFrame(y_pred_proba).describe()"
   ]
  },
  {
   "cell_type": "code",
   "execution_count": 58,
   "id": "d1114804-1b6f-428d-959d-a3c7d37d420b",
   "metadata": {},
   "outputs": [
    {
     "data": {
      "image/png": "[encoded data removed]",
      "text/plain": [
       "<Figure size 640x480 with 1 Axes>"
      ]
     },
     "metadata": {},
     "output_type": "display_data"
    }
   ],
   "source": [
    "plt.figure()\n",
    "plt.plot(curve[6:-7,0], curve[6:-7,1], color='blue', label=f'ROC curve (AUC = {roc_auc:.2f})')\n",
    "plt.plot([0, 1], [0, 1], color='gray', linestyle='--')  # Diagonal line\n",
    "plt.xlabel('False Positive Rate')\n",
    "plt.ylabel('True Positive Rate')\n",
    "plt.title('ROC Curve')\n",
    "plt.legend(loc='lower right')\n",
    "plt.show()"
   ]
  },
  {
   "cell_type": "markdown",
   "id": "58e94261-17ac-4298-8f85-d5fe6d79865d",
   "metadata": {},
   "source": [
    "## LGBM classifier"
   ]
  },
  {
   "cell_type": "code",
   "execution_count": null,
   "id": "d3f2528a-cc54-453a-8385-62fa1ef93a05",
   "metadata": {},
   "outputs": [],
   "source": [
    "from lightgbm import LGBMClassifier\n",
    "\n",
    "X = cybermetrics_data['X']\n",
    "y = cybermetrics_data['y']\n",
    "\n",
    "pca = PCA(n_components=500, random_state=42)\n",
    "array_X = np.stack(X)\n",
    "array_y = np.array(y)\n",
    "X_reduced = pca.fit_transform(array_X)\n",
    "\n",
    "smote = SMOTE(random_state=42)\n",
    "adasyn = ADASYN(sampling_strategy=1, n_neighbors=10, random_state=42)\n",
    "X_resampled, y_resampled = smote.fit_resample(X_reduced, array_y)\n",
    "print(\"Resampled class counts:\", np.bincount(y_resampled))\n",
    "\n",
    "skf = StratifiedKFold(n_splits=5, shuffle=True, random_state=42)\n",
    "\n",
    "param_grid = {\n",
    "    'n_estimators': [100, 200, 500],\n",
    "    'learning_rate': [0.01, 0.05, 0.1],\n",
    "    'max_depth': [4, 6, 8],\n",
    "    'num_leaves': [20, 31, 50],\n",
    "    'min_child_weight': [1e-3, 1e-2, 1e-1],\n",
    "    'subsample': [0.6, 0.8, 1.0],\n",
    "    'colsample_bytree': [0.6, 0.8, 1.0],\n",
    "    'reg_alpha': [0, 1, 10],\n",
    "    'reg_lambda': [0, 1, 10]\n",
    "}\n",
    "\n",
    "random_search = RandomizedSearchCV(\n",
    "    estimator=LGBMClassifier(\n",
    "        objective='binary',\n",
    "        boosting_type='gbdt',\n",
    "        device='gpu',\n",
    "        verbose=-1,\n",
    "        class_weight='balanced'\n",
    "    ),\n",
    "    param_distributions=param_grid,\n",
    "    cv=skf,\n",
    "    scoring='f1',\n",
    "    n_jobs=-1,\n",
    "    n_iter=10,\n",
    "    random_state=42\n",
    ")\n",
    "\n",
    "gc.collect()\n",
    "random_search.fit(X_resampled, y_resampled)\n",
    "\n",
    "print(\"Best parameters:\", random_search.best_params_)\n",
    "print(\"Best F1 score:\", random_search.best_score_)\n",
    "\n",
    "X_train, X_test, y_train, y_test = train_test_split(X_resampled, y_resampled, test_size=0.2, stratify=y_resampled, random_state=42)\n",
    "\n",
    "params = random_search.best_params_\n",
    "params['objective'] = 'binary'\n",
    "params['boosting_type'] = 'gbdt'\n",
    "params['device'] = 'gpu'\n",
    "params['is_unbalance']=True\n",
    "\n",
    "model = LGBMClassifier(**params)\n",
    "model.fit(X_train, y_train)\n"
   ]
  },
  {
   "cell_type": "code",
   "execution_count": null,
   "id": "5cc8fa37-af84-4a05-b66e-9edbc55d719e",
   "metadata": {},
   "outputs": [],
   "source": [
    "y_pred = model.predict(X_test)\n",
    "y_pred_proba = model.predict_proba(X_test)\n",
    "# Evaluate the model\n",
    "accuracy = accuracy_score(y_test, y_pred)\n",
    "f1 = f1_score(y_test, y_pred)\n",
    "treshold = 0.5\n",
    "y_trsh = (y_pred_proba[:, 1] > treshold).astype(int)\n",
    "roc_auc = roc_auc_score(y_test, y_trsh)\n",
    "curve = []\n",
    "for treshold in np.arange(0, 1.05, 0.05):\n",
    "    y_trsh = (y_pred_proba[:, 1] > treshold).astype(int)\n",
    "    fpr, tpr, thresholds = roc_curve(y_test, y_trsh)\n",
    "    curve.append((fpr[1], tpr[1], treshold))\n",
    "\n",
    "curve = np.array(curve)\n",
    "\n",
    "print(\"Accuracy:\", accuracy)\n",
    "print(\"F1:\", f1)\n",
    "print(\"ROC-AUC:\", roc_auc)\n",
    "print(\"\\nClassification Report:\")\n",
    "print(classification_report(y_test, y_pred))"
   ]
  },
  {
   "cell_type": "code",
   "execution_count": null,
   "id": "cc24da29-dd17-4c77-99fd-57e8a0f7b91c",
   "metadata": {},
   "outputs": [],
   "source": [
    "plt.figure()\n",
    "plt.plot(curve[0:-2,0], curve[0:-2,1], color='blue', label=f'ROC curve (AUC = {roc_auc:.2f})')\n",
    "plt.plot([0, 1], [0, 1], color='gray', linestyle='--')  # Diagonal line\n",
    "plt.xlabel('False Positive Rate')\n",
    "plt.ylabel('True Positive Rate')\n",
    "plt.title('ROC Curve')\n",
    "plt.legend(loc='lower right')\n",
    "plt.show()"
   ]
  },
  {
   "cell_type": "markdown",
   "id": "d4e1e3fa-ea83-45b2-80e1-e4552ea96042",
   "metadata": {},
   "source": [
    "## Feed forward MLP NN"
   ]
  },
  {
   "cell_type": "code",
   "execution_count": 59,
   "id": "d5006387-42ea-41c7-ab21-0dc06916422b",
   "metadata": {},
   "outputs": [
    {
     "name": "stdout",
     "output_type": "stream",
     "text": [
      "Data complete\n",
      "Datasets ready\n",
      "Traning....\n"
     ]
    },
    {
     "name": "stderr",
     "output_type": "stream",
     "text": [
      "Epoch 1/100: 100%|██████████████████████████████████████████████████| 109/109 [00:01<00:00, 104.43batch/s, loss=0.5545]\n",
      "Epoch 2/100: 100%|██████████████████████████████████████████████████| 109/109 [00:00<00:00, 181.67batch/s, loss=0.5819]\n",
      "Epoch 3/100: 100%|██████████████████████████████████████████████████| 109/109 [00:00<00:00, 179.87batch/s, loss=0.6007]\n",
      "Epoch 4/100: 100%|██████████████████████████████████████████████████| 109/109 [00:00<00:00, 182.89batch/s, loss=0.5486]\n",
      "Epoch 5/100: 100%|██████████████████████████████████████████████████| 109/109 [00:00<00:00, 187.93batch/s, loss=0.5672]\n",
      "Epoch 6/100: 100%|██████████████████████████████████████████████████| 109/109 [00:00<00:00, 186.33batch/s, loss=0.5075]\n",
      "Epoch 7/100: 100%|██████████████████████████████████████████████████| 109/109 [00:00<00:00, 186.19batch/s, loss=0.5081]\n",
      "Epoch 8/100: 100%|██████████████████████████████████████████████████| 109/109 [00:00<00:00, 178.40batch/s, loss=0.5595]\n",
      "Epoch 9/100: 100%|██████████████████████████████████████████████████| 109/109 [00:00<00:00, 176.09batch/s, loss=0.5664]\n",
      "Epoch 10/100: 100%|█████████████████████████████████████████████████| 109/109 [00:00<00:00, 175.52batch/s, loss=0.5689]\n",
      "Epoch 11/100: 100%|█████████████████████████████████████████████████| 109/109 [00:00<00:00, 178.69batch/s, loss=0.5925]\n",
      "Epoch 12/100: 100%|█████████████████████████████████████████████████| 109/109 [00:00<00:00, 176.38batch/s, loss=0.5643]\n",
      "Epoch 13/100: 100%|█████████████████████████████████████████████████| 109/109 [00:00<00:00, 176.95batch/s, loss=0.6899]\n",
      "Epoch 14/100: 100%|█████████████████████████████████████████████████| 109/109 [00:00<00:00, 177.52batch/s, loss=0.5485]\n",
      "Epoch 15/100: 100%|█████████████████████████████████████████████████| 109/109 [00:00<00:00, 174.12batch/s, loss=0.5895]\n",
      "Epoch 16/100: 100%|█████████████████████████████████████████████████| 109/109 [00:00<00:00, 176.38batch/s, loss=0.5068]\n",
      "Epoch 17/100: 100%|█████████████████████████████████████████████████| 109/109 [00:00<00:00, 173.84batch/s, loss=0.5079]\n",
      "Epoch 18/100: 100%|█████████████████████████████████████████████████| 109/109 [00:00<00:00, 174.96batch/s, loss=0.6933]\n",
      "Epoch 19/100: 100%|█████████████████████████████████████████████████| 109/109 [00:00<00:00, 174.68batch/s, loss=0.5612]\n",
      "Epoch 20/100: 100%|█████████████████████████████████████████████████| 109/109 [00:00<00:00, 177.24batch/s, loss=0.5745]\n",
      "Epoch 21/100: 100%|█████████████████████████████████████████████████| 109/109 [00:00<00:00, 175.81batch/s, loss=0.6283]\n",
      "Epoch 22/100: 100%|█████████████████████████████████████████████████| 109/109 [00:00<00:00, 170.85batch/s, loss=0.4291]\n",
      "Epoch 23/100: 100%|█████████████████████████████████████████████████| 109/109 [00:00<00:00, 175.24batch/s, loss=0.6183]\n",
      "Epoch 24/100: 100%|█████████████████████████████████████████████████| 109/109 [00:00<00:00, 173.29batch/s, loss=0.5879]\n",
      "Epoch 25/100: 100%|█████████████████████████████████████████████████| 109/109 [00:00<00:00, 172.74batch/s, loss=0.5413]\n",
      "Epoch 26/100: 100%|█████████████████████████████████████████████████| 109/109 [00:00<00:00, 171.11batch/s, loss=0.5047]\n",
      "Epoch 27/100: 100%|█████████████████████████████████████████████████| 109/109 [00:00<00:00, 165.40batch/s, loss=0.5732]\n",
      "Epoch 28/100: 100%|█████████████████████████████████████████████████| 109/109 [00:00<00:00, 172.74batch/s, loss=0.7160]\n",
      "Epoch 29/100: 100%|█████████████████████████████████████████████████| 109/109 [00:00<00:00, 174.79batch/s, loss=0.6396]\n",
      "Epoch 30/100: 100%|█████████████████████████████████████████████████| 109/109 [00:00<00:00, 174.40batch/s, loss=0.4112]\n",
      "Epoch 31/100: 100%|█████████████████████████████████████████████████| 109/109 [00:00<00:00, 174.68batch/s, loss=0.5382]\n",
      "Epoch 32/100: 100%|█████████████████████████████████████████████████| 109/109 [00:00<00:00, 176.95batch/s, loss=0.5589]\n",
      "Epoch 33/100: 100%|█████████████████████████████████████████████████| 109/109 [00:00<00:00, 177.24batch/s, loss=0.5250]\n",
      "Epoch 34/100: 100%|█████████████████████████████████████████████████| 109/109 [00:00<00:00, 171.39batch/s, loss=0.5917]\n",
      "Epoch 35/100: 100%|█████████████████████████████████████████████████| 109/109 [00:00<00:00, 175.81batch/s, loss=0.6587]\n",
      "Epoch 36/100: 100%|█████████████████████████████████████████████████| 109/109 [00:00<00:00, 173.57batch/s, loss=0.4913]\n",
      "Epoch 37/100: 100%|█████████████████████████████████████████████████| 109/109 [00:00<00:00, 180.46batch/s, loss=0.5756]\n",
      "Epoch 38/100: 100%|█████████████████████████████████████████████████| 109/109 [00:00<00:00, 181.97batch/s, loss=0.4791]\n",
      "Epoch 39/100: 100%|█████████████████████████████████████████████████| 109/109 [00:00<00:00, 177.53batch/s, loss=0.6370]\n",
      "Epoch 40/100: 100%|█████████████████████████████████████████████████| 109/109 [00:00<00:00, 183.81batch/s, loss=0.4990]\n",
      "Epoch 41/100: 100%|█████████████████████████████████████████████████| 109/109 [00:00<00:00, 182.89batch/s, loss=0.5984]\n",
      "Epoch 42/100: 100%|█████████████████████████████████████████████████| 109/109 [00:00<00:00, 178.69batch/s, loss=0.5594]\n",
      "Epoch 43/100: 100%|█████████████████████████████████████████████████| 109/109 [00:00<00:00, 183.81batch/s, loss=0.4578]\n",
      "Epoch 44/100: 100%|█████████████████████████████████████████████████| 109/109 [00:00<00:00, 180.76batch/s, loss=0.5513]\n",
      "Epoch 45/100: 100%|█████████████████████████████████████████████████| 109/109 [00:00<00:00, 181.97batch/s, loss=0.4951]\n",
      "Epoch 46/100: 100%|█████████████████████████████████████████████████| 109/109 [00:00<00:00, 177.52batch/s, loss=0.6499]\n",
      "Epoch 47/100: 100%|█████████████████████████████████████████████████| 109/109 [00:00<00:00, 177.23batch/s, loss=0.5244]\n",
      "Epoch 48/100: 100%|█████████████████████████████████████████████████| 109/109 [00:00<00:00, 178.40batch/s, loss=0.5212]\n",
      "Epoch 49/100: 100%|█████████████████████████████████████████████████| 109/109 [00:00<00:00, 175.81batch/s, loss=0.5506]\n",
      "Epoch 50/100: 100%|█████████████████████████████████████████████████| 109/109 [00:00<00:00, 177.24batch/s, loss=0.3997]\n",
      "Epoch 51/100: 100%|█████████████████████████████████████████████████| 109/109 [00:00<00:00, 180.76batch/s, loss=0.5998]\n",
      "Epoch 52/100: 100%|█████████████████████████████████████████████████| 109/109 [00:00<00:00, 188.26batch/s, loss=0.6234]\n",
      "Epoch 53/100: 100%|█████████████████████████████████████████████████| 109/109 [00:00<00:00, 178.69batch/s, loss=0.5594]\n",
      "Epoch 54/100: 100%|█████████████████████████████████████████████████| 109/109 [00:00<00:00, 187.61batch/s, loss=0.5182]\n",
      "Epoch 55/100: 100%|█████████████████████████████████████████████████| 109/109 [00:00<00:00, 185.69batch/s, loss=0.5378]\n",
      "Epoch 56/100: 100%|█████████████████████████████████████████████████| 109/109 [00:00<00:00, 185.69batch/s, loss=0.4757]\n",
      "Epoch 57/100: 100%|█████████████████████████████████████████████████| 109/109 [00:00<00:00, 184.82batch/s, loss=0.4690]\n",
      "Epoch 58/100: 100%|█████████████████████████████████████████████████| 109/109 [00:00<00:00, 190.56batch/s, loss=0.5555]\n",
      "Epoch 59/100: 100%|█████████████████████████████████████████████████| 109/109 [00:00<00:00, 179.28batch/s, loss=0.5127]\n",
      "Epoch 60/100: 100%|█████████████████████████████████████████████████| 109/109 [00:00<00:00, 187.85batch/s, loss=0.6752]\n",
      "Epoch 61/100: 100%|█████████████████████████████████████████████████| 109/109 [00:00<00:00, 187.61batch/s, loss=0.5876]\n",
      "Epoch 62/100: 100%|█████████████████████████████████████████████████| 109/109 [00:00<00:00, 183.47batch/s, loss=0.4665]\n",
      "Epoch 63/100: 100%|█████████████████████████████████████████████████| 109/109 [00:00<00:00, 184.12batch/s, loss=0.4514]\n",
      "Epoch 64/100: 100%|█████████████████████████████████████████████████| 109/109 [00:00<00:00, 184.11batch/s, loss=0.6010]\n",
      "Epoch 65/100: 100%|█████████████████████████████████████████████████| 109/109 [00:00<00:00, 193.61batch/s, loss=0.5117]\n",
      "Epoch 66/100: 100%|█████████████████████████████████████████████████| 109/109 [00:00<00:00, 186.01batch/s, loss=0.5089]\n",
      "Epoch 67/100: 100%|█████████████████████████████████████████████████| 109/109 [00:00<00:00, 183.81batch/s, loss=0.5957]\n",
      "Epoch 68/100: 100%|█████████████████████████████████████████████████| 109/109 [00:00<00:00, 192.58batch/s, loss=0.5206]\n",
      "Epoch 69/100: 100%|█████████████████████████████████████████████████| 109/109 [00:00<00:00, 194.73batch/s, loss=0.5202]\n",
      "Epoch 70/100: 100%|█████████████████████████████████████████████████| 109/109 [00:00<00:00, 186.33batch/s, loss=0.5192]\n",
      "Epoch 71/100: 100%|█████████████████████████████████████████████████| 109/109 [00:00<00:00, 188.21batch/s, loss=0.4659]\n",
      "Epoch 72/100: 100%|█████████████████████████████████████████████████| 109/109 [00:00<00:00, 186.96batch/s, loss=0.5270]\n",
      "Epoch 73/100: 100%|█████████████████████████████████████████████████| 109/109 [00:00<00:00, 183.50batch/s, loss=0.5918]\n",
      "Epoch 74/100: 100%|█████████████████████████████████████████████████| 109/109 [00:00<00:00, 180.46batch/s, loss=0.5395]\n",
      "Epoch 75/100: 100%|█████████████████████████████████████████████████| 109/109 [00:00<00:00, 187.61batch/s, loss=0.5132]\n",
      "Epoch 76/100: 100%|█████████████████████████████████████████████████| 109/109 [00:00<00:00, 190.36batch/s, loss=0.5162]\n",
      "Epoch 77/100: 100%|█████████████████████████████████████████████████| 109/109 [00:00<00:00, 199.27batch/s, loss=0.5712]\n",
      "Epoch 78/100: 100%|█████████████████████████████████████████████████| 109/109 [00:00<00:00, 183.81batch/s, loss=0.5000]\n",
      "Epoch 79/100: 100%|█████████████████████████████████████████████████| 109/109 [00:00<00:00, 187.29batch/s, loss=0.7130]\n",
      "Epoch 80/100: 100%|█████████████████████████████████████████████████| 109/109 [00:00<00:00, 186.01batch/s, loss=0.5751]\n",
      "Epoch 81/100: 100%|█████████████████████████████████████████████████| 109/109 [00:00<00:00, 183.19batch/s, loss=0.5213]\n",
      "Epoch 82/100: 100%|█████████████████████████████████████████████████| 109/109 [00:00<00:00, 181.67batch/s, loss=0.4737]\n",
      "Epoch 83/100: 100%|█████████████████████████████████████████████████| 109/109 [00:00<00:00, 183.81batch/s, loss=0.5375]\n",
      "Epoch 84/100: 100%|█████████████████████████████████████████████████| 109/109 [00:00<00:00, 186.33batch/s, loss=0.5865]\n",
      "Epoch 85/100: 100%|█████████████████████████████████████████████████| 109/109 [00:00<00:00, 182.58batch/s, loss=0.5171]\n",
      "Epoch 86/100: 100%|█████████████████████████████████████████████████| 109/109 [00:00<00:00, 185.06batch/s, loss=0.5183]\n",
      "Epoch 87/100: 100%|█████████████████████████████████████████████████| 109/109 [00:00<00:00, 180.76batch/s, loss=0.4667]\n",
      "Epoch 88/100: 100%|█████████████████████████████████████████████████| 109/109 [00:00<00:00, 182.58batch/s, loss=0.6017]\n",
      "Epoch 89/100: 100%|█████████████████████████████████████████████████| 109/109 [00:00<00:00, 184.75batch/s, loss=0.5562]\n",
      "Epoch 90/100: 100%|█████████████████████████████████████████████████| 109/109 [00:00<00:00, 185.06batch/s, loss=0.5075]\n",
      "Epoch 91/100: 100%|█████████████████████████████████████████████████| 109/109 [00:00<00:00, 181.06batch/s, loss=0.4069]\n",
      "Epoch 92/100: 100%|█████████████████████████████████████████████████| 109/109 [00:00<00:00, 184.75batch/s, loss=0.5800]\n",
      "Epoch 93/100: 100%|█████████████████████████████████████████████████| 109/109 [00:00<00:00, 183.81batch/s, loss=0.5816]\n",
      "Epoch 94/100: 100%|█████████████████████████████████████████████████| 109/109 [00:00<00:00, 202.23batch/s, loss=0.5041]\n",
      "Epoch 95/100: 100%|█████████████████████████████████████████████████| 109/109 [00:00<00:00, 184.75batch/s, loss=0.5153]\n",
      "Epoch 96/100: 100%|█████████████████████████████████████████████████| 109/109 [00:00<00:00, 186.32batch/s, loss=0.5892]\n",
      "Epoch 97/100: 100%|█████████████████████████████████████████████████| 109/109 [00:00<00:00, 185.37batch/s, loss=0.4321]\n",
      "Epoch 98/100: 100%|█████████████████████████████████████████████████| 109/109 [00:00<00:00, 190.23batch/s, loss=0.5384]\n",
      "Epoch 99/100: 100%|█████████████████████████████████████████████████| 109/109 [00:00<00:00, 179.87batch/s, loss=0.4825]\n",
      "Epoch 100/100: 100%|████████████████████████████████████████████████| 109/109 [00:00<00:00, 183.19batch/s, loss=0.6049]"
     ]
    },
    {
     "name": "stdout",
     "output_type": "stream",
     "text": [
      "Traning complete\n"
     ]
    },
    {
     "name": "stderr",
     "output_type": "stream",
     "text": [
      "\n"
     ]
    }
   ],
   "source": [
    "array_X = np.stack(cybermetrics_data['features'])\n",
    "array_y = cybermetrics_data['y'].to_numpy()\n",
    "\n",
    "X_train, X_test, y_train, y_test = train_test_split(array_X, array_y, test_size=0.2, random_state=42, stratify=array_y)\n",
    "device = torch.device(\"cuda\" if torch.cuda.is_available() else \"cpu\")\n",
    "scaler = StandardScaler()\n",
    "X_train_tensor = torch.tensor(scaler.fit_transform(X_train), dtype=torch.float32).to(device)\n",
    "X_test = scaler.transform(X_test)\n",
    "y_train_tensor = torch.tensor(y_train, dtype=torch.float32).to(device)\n",
    "X_test_tensor = torch.tensor(X_test, dtype=torch.float32).to(device)\n",
    "y_test_tensor = torch.tensor(y_test, dtype=torch.float32).to(device)\n",
    "print('Data complete')\n",
    "\n",
    "class FeedForwardNN(nn.Module):\n",
    "    def __init__(self, input_dim):\n",
    "        super(FeedForwardNN, self).__init__()\n",
    "        self.fc1 = nn.Linear(input_dim, 512)\n",
    "        self.bn1 = nn.BatchNorm1d(512)\n",
    "        self.dropout1 = nn.Dropout(0.3)\n",
    "\n",
    "        self.fc2 = nn.Linear(512, 256)\n",
    "        self.bn2 = nn.BatchNorm1d(256)\n",
    "        self.dropout2 = nn.Dropout(0.2)\n",
    "\n",
    "        self.fc3 = nn.Linear(256, 128)\n",
    "        self.bn3 = nn.BatchNorm1d(128)\n",
    "        self.dropout3 = nn.Dropout(0.1)\n",
    "\n",
    "        self.fc4 = nn.Linear(128, 64)\n",
    "        self.bn4 = nn.BatchNorm1d(64)\n",
    "        self.dropout4 = nn.Dropout(0.05)\n",
    "        \n",
    "        self.out = nn.Linear(64, 1)  # Output layer for binary classification\n",
    "\n",
    "    def forward(self, x):\n",
    "        x = F.leaky_relu(self.bn1(self.fc1(x)), negative_slope=0.01)\n",
    "        x = self.dropout1(x)\n",
    "        x = F.leaky_relu(self.bn2(self.fc2(x)), negative_slope=0.01)\n",
    "        x = self.dropout2(x)\n",
    "        x = F.leaky_relu(self.bn3(self.fc3(x)), negative_slope=0.01)\n",
    "        x = self.dropout3(x)\n",
    "        x = F.leaky_relu(self.bn4(self.fc4(x)), negative_slope=0.01)\n",
    "        x = self.dropout4(x)        \n",
    "        x = torch.sigmoid(self.out(x))\n",
    "        return x\n",
    "\n",
    "input_dim = X_train_tensor.shape[1]\n",
    "\n",
    "model = FeedForwardNN(input_dim).to(device)\n",
    "\n",
    "criterion = nn.BCEWithLogitsLoss()\n",
    "optimizer = torch.optim.AdamW(model.parameters(), lr=0.0005, weight_decay=1e-5)\n",
    "\n",
    "num_epochs = 100\n",
    "batch_size = 32\n",
    "train_dataset = torch.utils.data.TensorDataset(X_train_tensor, y_train_tensor)\n",
    "train_loader = torch.utils.data.DataLoader(train_dataset, batch_size=batch_size, shuffle=True)\n",
    "print('Datasets ready')\n",
    "\n",
    "print('Traning....')\n",
    "model.train()\n",
    "for epoch in range(num_epochs):\n",
    "    gc.collect()\n",
    "    torch.cuda.empty_cache()\n",
    "    epoch_loss = 0\n",
    "    with tqdm(train_loader, desc=f\"Epoch {epoch + 1}/{num_epochs}\", unit=\"batch\") as pbar:\n",
    "        for batch_X, batch_y in pbar:\n",
    "            batch_X, batch_y = batch_X.to(device), batch_y.to(device)\n",
    "            \n",
    "            optimizer.zero_grad()\n",
    "            y_pred = model(batch_X).squeeze()\n",
    "            loss = criterion(y_pred, batch_y)\n",
    "            loss.backward()\n",
    "            optimizer.step()\n",
    "            epoch_loss += loss.item()\n",
    "            pbar.set_postfix(loss=f\"{loss.item():.4f}\")\n",
    "\n",
    "print('Traning complete')"
   ]
  },
  {
   "cell_type": "markdown",
   "id": "0b37b122-3432-4cb1-872d-f05c4db43e58",
   "metadata": {},
   "source": [
    "Evaluating trained model on test dataset "
   ]
  },
  {
   "cell_type": "code",
   "execution_count": 74,
   "id": "fa3806dc-5e0e-48ae-8103-0c5da6f638ab",
   "metadata": {},
   "outputs": [
    {
     "name": "stdout",
     "output_type": "stream",
     "text": [
      "Accuracy: 0.5793103448275863\n",
      "F1: 0.6684782608695652\n",
      "\n",
      "Classification Report:\n",
      "              precision    recall  f1-score   support\n",
      "\n",
      "           0       0.34      0.57      0.42       238\n",
      "           1       0.78      0.58      0.67       632\n",
      "\n",
      "    accuracy                           0.58       870\n",
      "   macro avg       0.56      0.58      0.55       870\n",
      "weighted avg       0.66      0.58      0.60       870\n",
      "\n"
     ]
    },
    {
     "data": {
      "text/html": [
       "<div>\n",
       "<style scoped>\n",
       "    .dataframe tbody tr th:only-of-type {\n",
       "        vertical-align: middle;\n",
       "    }\n",
       "\n",
       "    .dataframe tbody tr th {\n",
       "        vertical-align: top;\n",
       "    }\n",
       "\n",
       "    .dataframe thead th {\n",
       "        text-align: right;\n",
       "    }\n",
       "</style>\n",
       "<table border=\"1\" class=\"dataframe\">\n",
       "  <thead>\n",
       "    <tr style=\"text-align: right;\">\n",
       "      <th></th>\n",
       "      <th>0</th>\n",
       "    </tr>\n",
       "  </thead>\n",
       "  <tbody>\n",
       "    <tr>\n",
       "      <th>count</th>\n",
       "      <td>8.700000e+02</td>\n",
       "    </tr>\n",
       "    <tr>\n",
       "      <th>mean</th>\n",
       "      <td>7.202370e-01</td>\n",
       "    </tr>\n",
       "    <tr>\n",
       "      <th>std</th>\n",
       "      <td>4.200791e-01</td>\n",
       "    </tr>\n",
       "    <tr>\n",
       "      <th>min</th>\n",
       "      <td>1.308128e-07</td>\n",
       "    </tr>\n",
       "    <tr>\n",
       "      <th>25%</th>\n",
       "      <td>2.041723e-01</td>\n",
       "    </tr>\n",
       "    <tr>\n",
       "      <th>50%</th>\n",
       "      <td>9.987363e-01</td>\n",
       "    </tr>\n",
       "    <tr>\n",
       "      <th>75%</th>\n",
       "      <td>9.999901e-01</td>\n",
       "    </tr>\n",
       "    <tr>\n",
       "      <th>max</th>\n",
       "      <td>1.000000e+00</td>\n",
       "    </tr>\n",
       "  </tbody>\n",
       "</table>\n",
       "</div>"
      ],
      "text/plain": [
       "                  0\n",
       "count  8.700000e+02\n",
       "mean   7.202370e-01\n",
       "std    4.200791e-01\n",
       "min    1.308128e-07\n",
       "25%    2.041723e-01\n",
       "50%    9.987363e-01\n",
       "75%    9.999901e-01\n",
       "max    1.000000e+00"
      ]
     },
     "execution_count": 74,
     "metadata": {},
     "output_type": "execute_result"
    }
   ],
   "source": [
    "model.eval()\n",
    "with torch.no_grad():\n",
    "    y_pred_prob = model(X_test_tensor).to('cpu').squeeze().numpy()\n",
    "    y_pred = (y_pred_prob >= 0.997).astype(int)\n",
    "\n",
    "accuracy = accuracy_score(y_test, y_pred)\n",
    "f1 = f1_score(y_test, y_pred)\n",
    "# Classification Report\n",
    "print(\"Accuracy:\", accuracy)\n",
    "print(\"F1:\", f1)\n",
    "print(\"\\nClassification Report:\")\n",
    "print(classification_report(y_test, y_pred))\n",
    "pd.DataFrame(y_pred_prob).describe()"
   ]
  },
  {
   "cell_type": "code",
   "execution_count": 84,
   "id": "d68a56ca-4e0c-4b8b-9c41-5bd06963157a",
   "metadata": {},
   "outputs": [
    {
     "data": {
      "image/png": "[encoded data removed]",
      "text/plain": [
       "<Figure size 640x480 with 1 Axes>"
      ]
     },
     "metadata": {},
     "output_type": "display_data"
    }
   ],
   "source": [
    "treshold = 0.8\n",
    "y_trsh = (y_pred_prob > treshold).astype(int)\n",
    "roc_auc = roc_auc_score(y_test, y_trsh)\n",
    "curve = []\n",
    "for treshold in np.arange(0, 1.01, 0.01):\n",
    "    y_trsh = (y_pred_prob > treshold).astype(int)\n",
    "    fpr, tpr, thresholds = roc_curve(y_test, y_trsh)\n",
    "    curve.append((fpr[1], tpr[1], treshold))\n",
    "\n",
    "curve = np.array(curve)\n",
    "\n",
    "plt.figure()\n",
    "plt.plot(curve[0:-1,0], curve[0:-1,1], color='blue', label=f'ROC curve (AUC = {roc_auc:.2f})')\n",
    "plt.plot([0, 1], [0, 1], color='gray', linestyle='--')  # Diagonal line\n",
    "plt.xlabel('False Positive Rate')\n",
    "plt.ylabel('True Positive Rate')\n",
    "plt.title('ROC Curve')\n",
    "plt.legend(loc='lower right')\n",
    "plt.show()"
   ]
  },
  {
   "cell_type": "code",
   "execution_count": null,
   "id": "4c74e185-f050-4836-864c-d6842d890db0",
   "metadata": {},
   "outputs": [],
   "source": [
    "gc.collect()\n",
    "torch.cuda.empty_cache()"
   ]
  }
 ],
 "metadata": {
  "kernelspec": {
   "display_name": "Python 3 (ipykernel)",
   "language": "python",
   "name": "python3"
  },
  "language_info": {
   "codemirror_mode": {
    "name": "ipython",
    "version": 3
   },
   "file_extension": ".py",
   "mimetype": "text/x-python",
   "name": "python",
   "nbconvert_exporter": "python",
   "pygments_lexer": "ipython3",
   "version": "3.11.1"
  }
 },
 "nbformat": 4,
 "nbformat_minor": 5
}
